{
 "cells": [
  {
   "cell_type": "markdown",
   "metadata": {},
   "source": [
    "# 05. Funnel Analysis"
   ]
  },
  {
   "cell_type": "code",
   "execution_count": 1,
   "metadata": {},
   "outputs": [],
   "source": [
    "import numpy as np\n",
    "import pandas as pd\n",
    "import seaborn as sns\n",
    "import matplotlib.pyplot as plt\n",
    "\n",
    "%matplotlib inline"
   ]
  },
  {
   "cell_type": "code",
   "execution_count": 2,
   "metadata": {},
   "outputs": [
    {
     "name": "stdout",
     "output_type": "stream",
     "text": [
      "3.6.10\n"
     ]
    }
   ],
   "source": [
    "from platform import python_version\n",
    "print(python_version())"
   ]
  },
  {
   "cell_type": "code",
   "execution_count": 3,
   "metadata": {},
   "outputs": [
    {
     "data": {
      "text/html": [
       "<style type=\"text/css\">\n",
       "table.dataframe td, table.dataframe th {\n",
       "    border: 1px solid lightgray;\n",
       "}\n"
      ],
      "text/plain": [
       "<IPython.core.display.HTML object>"
      ]
     },
     "metadata": {},
     "output_type": "display_data"
    }
   ],
   "source": [
    "%%HTML\n",
    "<style type=\"text/css\">\n",
    "table.dataframe td, table.dataframe th {\n",
    "    border: 1px solid lightgray;\n",
    "}"
   ]
  },
  {
   "cell_type": "markdown",
   "metadata": {},
   "source": [
    "## Load Dataset"
   ]
  },
  {
   "cell_type": "code",
   "execution_count": 8,
   "metadata": {},
   "outputs": [
    {
     "data": {
      "text/html": [
       "<div>\n",
       "<style scoped>\n",
       "    .dataframe tbody tr th:only-of-type {\n",
       "        vertical-align: middle;\n",
       "    }\n",
       "\n",
       "    .dataframe tbody tr th {\n",
       "        vertical-align: top;\n",
       "    }\n",
       "\n",
       "    .dataframe thead th {\n",
       "        text-align: right;\n",
       "    }\n",
       "</style>\n",
       "<table border=\"1\" class=\"dataframe\">\n",
       "  <thead>\n",
       "    <tr style=\"text-align: right;\">\n",
       "      <th></th>\n",
       "      <th>user_id</th>\n",
       "      <th>date</th>\n",
       "      <th>device</th>\n",
       "      <th>sex</th>\n",
       "    </tr>\n",
       "  </thead>\n",
       "  <tbody>\n",
       "    <tr>\n",
       "      <th>0</th>\n",
       "      <td>450007</td>\n",
       "      <td>2015-02-28</td>\n",
       "      <td>Desktop</td>\n",
       "      <td>Female</td>\n",
       "    </tr>\n",
       "    <tr>\n",
       "      <th>1</th>\n",
       "      <td>756838</td>\n",
       "      <td>2015-01-13</td>\n",
       "      <td>Desktop</td>\n",
       "      <td>Male</td>\n",
       "    </tr>\n",
       "    <tr>\n",
       "      <th>2</th>\n",
       "      <td>568983</td>\n",
       "      <td>2015-04-09</td>\n",
       "      <td>Desktop</td>\n",
       "      <td>Male</td>\n",
       "    </tr>\n",
       "    <tr>\n",
       "      <th>3</th>\n",
       "      <td>190794</td>\n",
       "      <td>2015-02-18</td>\n",
       "      <td>Desktop</td>\n",
       "      <td>Female</td>\n",
       "    </tr>\n",
       "    <tr>\n",
       "      <th>4</th>\n",
       "      <td>537909</td>\n",
       "      <td>2015-01-15</td>\n",
       "      <td>Desktop</td>\n",
       "      <td>Male</td>\n",
       "    </tr>\n",
       "  </tbody>\n",
       "</table>\n",
       "</div>"
      ],
      "text/plain": [
       "   user_id        date   device     sex\n",
       "0   450007  2015-02-28  Desktop  Female\n",
       "1   756838  2015-01-13  Desktop    Male\n",
       "2   568983  2015-04-09  Desktop    Male\n",
       "3   190794  2015-02-18  Desktop  Female\n",
       "4   537909  2015-01-15  Desktop    Male"
      ]
     },
     "execution_count": 8,
     "metadata": {},
     "output_type": "execute_result"
    }
   ],
   "source": [
    "user = pd.read_csv('E:/Collection_DS_takehome_challenges/Data/Funnel_Analysis/user_table.csv')\n",
    "user.head()"
   ]
  },
  {
   "cell_type": "code",
   "execution_count": 11,
   "metadata": {},
   "outputs": [
    {
     "data": {
      "text/html": [
       "<div>\n",
       "<style scoped>\n",
       "    .dataframe tbody tr th:only-of-type {\n",
       "        vertical-align: middle;\n",
       "    }\n",
       "\n",
       "    .dataframe tbody tr th {\n",
       "        vertical-align: top;\n",
       "    }\n",
       "\n",
       "    .dataframe thead th {\n",
       "        text-align: right;\n",
       "    }\n",
       "</style>\n",
       "<table border=\"1\" class=\"dataframe\">\n",
       "  <thead>\n",
       "    <tr style=\"text-align: right;\">\n",
       "      <th></th>\n",
       "      <th>user_id</th>\n",
       "      <th>page</th>\n",
       "    </tr>\n",
       "  </thead>\n",
       "  <tbody>\n",
       "    <tr>\n",
       "      <th>0</th>\n",
       "      <td>313593</td>\n",
       "      <td>home_page</td>\n",
       "    </tr>\n",
       "    <tr>\n",
       "      <th>1</th>\n",
       "      <td>468315</td>\n",
       "      <td>home_page</td>\n",
       "    </tr>\n",
       "    <tr>\n",
       "      <th>2</th>\n",
       "      <td>264005</td>\n",
       "      <td>home_page</td>\n",
       "    </tr>\n",
       "    <tr>\n",
       "      <th>3</th>\n",
       "      <td>290784</td>\n",
       "      <td>home_page</td>\n",
       "    </tr>\n",
       "    <tr>\n",
       "      <th>4</th>\n",
       "      <td>639104</td>\n",
       "      <td>home_page</td>\n",
       "    </tr>\n",
       "  </tbody>\n",
       "</table>\n",
       "</div>"
      ],
      "text/plain": [
       "   user_id       page\n",
       "0   313593  home_page\n",
       "1   468315  home_page\n",
       "2   264005  home_page\n",
       "3   290784  home_page\n",
       "4   639104  home_page"
      ]
     },
     "execution_count": 11,
     "metadata": {},
     "output_type": "execute_result"
    }
   ],
   "source": [
    "homepage = pd.read_csv('E:/Collection_DS_takehome_challenges/Data/Funnel_Analysis/home_page_table.csv')\n",
    "homepage.head()"
   ]
  },
  {
   "cell_type": "code",
   "execution_count": 12,
   "metadata": {},
   "outputs": [
    {
     "data": {
      "text/html": [
       "<div>\n",
       "<style scoped>\n",
       "    .dataframe tbody tr th:only-of-type {\n",
       "        vertical-align: middle;\n",
       "    }\n",
       "\n",
       "    .dataframe tbody tr th {\n",
       "        vertical-align: top;\n",
       "    }\n",
       "\n",
       "    .dataframe thead th {\n",
       "        text-align: right;\n",
       "    }\n",
       "</style>\n",
       "<table border=\"1\" class=\"dataframe\">\n",
       "  <thead>\n",
       "    <tr style=\"text-align: right;\">\n",
       "      <th></th>\n",
       "      <th>user_id</th>\n",
       "      <th>page</th>\n",
       "    </tr>\n",
       "  </thead>\n",
       "  <tbody>\n",
       "    <tr>\n",
       "      <th>0</th>\n",
       "      <td>15866</td>\n",
       "      <td>search_page</td>\n",
       "    </tr>\n",
       "    <tr>\n",
       "      <th>1</th>\n",
       "      <td>347058</td>\n",
       "      <td>search_page</td>\n",
       "    </tr>\n",
       "    <tr>\n",
       "      <th>2</th>\n",
       "      <td>577020</td>\n",
       "      <td>search_page</td>\n",
       "    </tr>\n",
       "    <tr>\n",
       "      <th>3</th>\n",
       "      <td>780347</td>\n",
       "      <td>search_page</td>\n",
       "    </tr>\n",
       "    <tr>\n",
       "      <th>4</th>\n",
       "      <td>383739</td>\n",
       "      <td>search_page</td>\n",
       "    </tr>\n",
       "  </tbody>\n",
       "</table>\n",
       "</div>"
      ],
      "text/plain": [
       "   user_id         page\n",
       "0    15866  search_page\n",
       "1   347058  search_page\n",
       "2   577020  search_page\n",
       "3   780347  search_page\n",
       "4   383739  search_page"
      ]
     },
     "execution_count": 12,
     "metadata": {},
     "output_type": "execute_result"
    }
   ],
   "source": [
    "searchpage = pd.read_csv('E:/Collection_DS_takehome_challenges/Data/Funnel_Analysis/search_page_table.csv')\n",
    "searchpage.head()"
   ]
  },
  {
   "cell_type": "code",
   "execution_count": 14,
   "metadata": {},
   "outputs": [
    {
     "data": {
      "text/html": [
       "<div>\n",
       "<style scoped>\n",
       "    .dataframe tbody tr th:only-of-type {\n",
       "        vertical-align: middle;\n",
       "    }\n",
       "\n",
       "    .dataframe tbody tr th {\n",
       "        vertical-align: top;\n",
       "    }\n",
       "\n",
       "    .dataframe thead th {\n",
       "        text-align: right;\n",
       "    }\n",
       "</style>\n",
       "<table border=\"1\" class=\"dataframe\">\n",
       "  <thead>\n",
       "    <tr style=\"text-align: right;\">\n",
       "      <th></th>\n",
       "      <th>user_id</th>\n",
       "      <th>page</th>\n",
       "    </tr>\n",
       "  </thead>\n",
       "  <tbody>\n",
       "    <tr>\n",
       "      <th>0</th>\n",
       "      <td>253019</td>\n",
       "      <td>payment_page</td>\n",
       "    </tr>\n",
       "    <tr>\n",
       "      <th>1</th>\n",
       "      <td>310478</td>\n",
       "      <td>payment_page</td>\n",
       "    </tr>\n",
       "    <tr>\n",
       "      <th>2</th>\n",
       "      <td>304081</td>\n",
       "      <td>payment_page</td>\n",
       "    </tr>\n",
       "    <tr>\n",
       "      <th>3</th>\n",
       "      <td>901286</td>\n",
       "      <td>payment_page</td>\n",
       "    </tr>\n",
       "    <tr>\n",
       "      <th>4</th>\n",
       "      <td>195052</td>\n",
       "      <td>payment_page</td>\n",
       "    </tr>\n",
       "  </tbody>\n",
       "</table>\n",
       "</div>"
      ],
      "text/plain": [
       "   user_id          page\n",
       "0   253019  payment_page\n",
       "1   310478  payment_page\n",
       "2   304081  payment_page\n",
       "3   901286  payment_page\n",
       "4   195052  payment_page"
      ]
     },
     "execution_count": 14,
     "metadata": {},
     "output_type": "execute_result"
    }
   ],
   "source": [
    "paypage = pd.read_csv('E:/Collection_DS_takehome_challenges/Data/Funnel_Analysis/payment_page_table.csv')\n",
    "paypage.head()"
   ]
  },
  {
   "cell_type": "code",
   "execution_count": 15,
   "metadata": {},
   "outputs": [
    {
     "data": {
      "text/html": [
       "<div>\n",
       "<style scoped>\n",
       "    .dataframe tbody tr th:only-of-type {\n",
       "        vertical-align: middle;\n",
       "    }\n",
       "\n",
       "    .dataframe tbody tr th {\n",
       "        vertical-align: top;\n",
       "    }\n",
       "\n",
       "    .dataframe thead th {\n",
       "        text-align: right;\n",
       "    }\n",
       "</style>\n",
       "<table border=\"1\" class=\"dataframe\">\n",
       "  <thead>\n",
       "    <tr style=\"text-align: right;\">\n",
       "      <th></th>\n",
       "      <th>user_id</th>\n",
       "      <th>page</th>\n",
       "    </tr>\n",
       "  </thead>\n",
       "  <tbody>\n",
       "    <tr>\n",
       "      <th>0</th>\n",
       "      <td>123100</td>\n",
       "      <td>payment_confirmation_page</td>\n",
       "    </tr>\n",
       "    <tr>\n",
       "      <th>1</th>\n",
       "      <td>704999</td>\n",
       "      <td>payment_confirmation_page</td>\n",
       "    </tr>\n",
       "    <tr>\n",
       "      <th>2</th>\n",
       "      <td>407188</td>\n",
       "      <td>payment_confirmation_page</td>\n",
       "    </tr>\n",
       "    <tr>\n",
       "      <th>3</th>\n",
       "      <td>538348</td>\n",
       "      <td>payment_confirmation_page</td>\n",
       "    </tr>\n",
       "    <tr>\n",
       "      <th>4</th>\n",
       "      <td>841681</td>\n",
       "      <td>payment_confirmation_page</td>\n",
       "    </tr>\n",
       "  </tbody>\n",
       "</table>\n",
       "</div>"
      ],
      "text/plain": [
       "   user_id                       page\n",
       "0   123100  payment_confirmation_page\n",
       "1   704999  payment_confirmation_page\n",
       "2   407188  payment_confirmation_page\n",
       "3   538348  payment_confirmation_page\n",
       "4   841681  payment_confirmation_page"
      ]
     },
     "execution_count": 15,
     "metadata": {},
     "output_type": "execute_result"
    }
   ],
   "source": [
    "paymentpage = pd.read_csv('E:/Collection_DS_takehome_challenges/Data/Funnel_Analysis/payment_confirmation_table.csv')\n",
    "paymentpage.head()"
   ]
  },
  {
   "cell_type": "markdown",
   "metadata": {},
   "source": [
    "## Data Processing"
   ]
  },
  {
   "cell_type": "code",
   "execution_count": 19,
   "metadata": {},
   "outputs": [
    {
     "data": {
      "text/html": [
       "<div>\n",
       "<style scoped>\n",
       "    .dataframe tbody tr th:only-of-type {\n",
       "        vertical-align: middle;\n",
       "    }\n",
       "\n",
       "    .dataframe tbody tr th {\n",
       "        vertical-align: top;\n",
       "    }\n",
       "\n",
       "    .dataframe thead th {\n",
       "        text-align: right;\n",
       "    }\n",
       "</style>\n",
       "<table border=\"1\" class=\"dataframe\">\n",
       "  <thead>\n",
       "    <tr style=\"text-align: right;\">\n",
       "      <th></th>\n",
       "      <th>user_id</th>\n",
       "      <th>date</th>\n",
       "      <th>device</th>\n",
       "      <th>sex</th>\n",
       "      <th>page_home</th>\n",
       "      <th>page_search</th>\n",
       "      <th>page_payment</th>\n",
       "      <th>page_confirmation</th>\n",
       "    </tr>\n",
       "  </thead>\n",
       "  <tbody>\n",
       "    <tr>\n",
       "      <th>0</th>\n",
       "      <td>450007</td>\n",
       "      <td>2015-02-28</td>\n",
       "      <td>Desktop</td>\n",
       "      <td>Female</td>\n",
       "      <td>home_page</td>\n",
       "      <td>NaN</td>\n",
       "      <td>NaN</td>\n",
       "      <td>NaN</td>\n",
       "    </tr>\n",
       "    <tr>\n",
       "      <th>1</th>\n",
       "      <td>756838</td>\n",
       "      <td>2015-01-13</td>\n",
       "      <td>Desktop</td>\n",
       "      <td>Male</td>\n",
       "      <td>home_page</td>\n",
       "      <td>NaN</td>\n",
       "      <td>NaN</td>\n",
       "      <td>NaN</td>\n",
       "    </tr>\n",
       "    <tr>\n",
       "      <th>2</th>\n",
       "      <td>568983</td>\n",
       "      <td>2015-04-09</td>\n",
       "      <td>Desktop</td>\n",
       "      <td>Male</td>\n",
       "      <td>home_page</td>\n",
       "      <td>search_page</td>\n",
       "      <td>NaN</td>\n",
       "      <td>NaN</td>\n",
       "    </tr>\n",
       "    <tr>\n",
       "      <th>3</th>\n",
       "      <td>190794</td>\n",
       "      <td>2015-02-18</td>\n",
       "      <td>Desktop</td>\n",
       "      <td>Female</td>\n",
       "      <td>home_page</td>\n",
       "      <td>search_page</td>\n",
       "      <td>NaN</td>\n",
       "      <td>NaN</td>\n",
       "    </tr>\n",
       "    <tr>\n",
       "      <th>4</th>\n",
       "      <td>537909</td>\n",
       "      <td>2015-01-15</td>\n",
       "      <td>Desktop</td>\n",
       "      <td>Male</td>\n",
       "      <td>home_page</td>\n",
       "      <td>NaN</td>\n",
       "      <td>NaN</td>\n",
       "      <td>NaN</td>\n",
       "    </tr>\n",
       "  </tbody>\n",
       "</table>\n",
       "</div>"
      ],
      "text/plain": [
       "   user_id        date   device     sex  page_home  page_search page_payment  \\\n",
       "0   450007  2015-02-28  Desktop  Female  home_page          NaN          NaN   \n",
       "1   756838  2015-01-13  Desktop    Male  home_page          NaN          NaN   \n",
       "2   568983  2015-04-09  Desktop    Male  home_page  search_page          NaN   \n",
       "3   190794  2015-02-18  Desktop  Female  home_page  search_page          NaN   \n",
       "4   537909  2015-01-15  Desktop    Male  home_page          NaN          NaN   \n",
       "\n",
       "  page_confirmation  \n",
       "0               NaN  \n",
       "1               NaN  \n",
       "2               NaN  \n",
       "3               NaN  \n",
       "4               NaN  "
      ]
     },
     "execution_count": 19,
     "metadata": {},
     "output_type": "execute_result"
    }
   ],
   "source": [
    "data=pd.merge(left=user,right=homepage,how='left',on='user_id')\n",
    "data=pd.merge(left=data,right=searchpage,how='left',on='user_id', suffixes=('_home', '_search'))\n",
    "data=pd.merge(left=data,right=paypage,how='left',on='user_id')\n",
    "data=pd.merge(left=data,right=paymentpage,how='left',on='user_id', suffixes=('_payment', '_confirmation'))\n",
    "\n",
    "data.head()"
   ]
  },
  {
   "cell_type": "code",
   "execution_count": 20,
   "metadata": {},
   "outputs": [
    {
     "name": "stdout",
     "output_type": "stream",
     "text": [
      "<class 'pandas.core.frame.DataFrame'>\n",
      "Int64Index: 90400 entries, 0 to 90399\n",
      "Data columns (total 8 columns):\n",
      " #   Column             Non-Null Count  Dtype \n",
      "---  ------             --------------  ----- \n",
      " 0   user_id            90400 non-null  int64 \n",
      " 1   date               90400 non-null  object\n",
      " 2   device             90400 non-null  object\n",
      " 3   sex                90400 non-null  object\n",
      " 4   page_home          90400 non-null  object\n",
      " 5   page_search        45200 non-null  object\n",
      " 6   page_payment       6030 non-null   object\n",
      " 7   page_confirmation  452 non-null    object\n",
      "dtypes: int64(1), object(7)\n",
      "memory usage: 6.2+ MB\n"
     ]
    }
   ],
   "source": [
    "data.info()"
   ]
  },
  {
   "cell_type": "markdown",
   "metadata": {},
   "source": [
    "## Analysis"
   ]
  },
  {
   "cell_type": "code",
   "execution_count": 39,
   "metadata": {},
   "outputs": [
    {
     "name": "stdout",
     "output_type": "stream",
     "text": [
      "               index  conversion\n",
      "0          page_home    1.000000\n",
      "1        page_search    0.500000\n",
      "2       page_payment    0.066704\n",
      "3  page_confirmation    0.005000\n"
     ]
    }
   ],
   "source": [
    "# Visit Probability for Each Page\n",
    "ratio=1-pd.DataFrame(data.isnull().sum())/len(data)\n",
    "ratio=ratio.rename(columns={0 :\"conversion\"})[4:].reset_index()\n",
    "print(ratio)"
   ]
  },
  {
   "cell_type": "code",
   "execution_count": 40,
   "metadata": {},
   "outputs": [
    {
     "data": {
      "image/png": "[encoded data removed]",
      "text/plain": [
       "<Figure size 576x360 with 1 Axes>"
      ]
     },
     "metadata": {
      "needs_background": "light"
     },
     "output_type": "display_data"
    }
   ],
   "source": [
    "fig, ax = plt.subplots(figsize=(8, 5))\n",
    "sns.barplot(x='index', y='conversion', data=ratio, ax=ax)\n",
    "ax.set_xlabel('Page', fontsize=12)\n",
    "ax.set_ylabel('Ratio of Visitors', fontsize=12)\n",
    "plt.show()"
   ]
  },
  {
   "cell_type": "markdown",
   "metadata": {},
   "source": [
    "## Conversion Rate for Each Page"
   ]
  },
  {
   "cell_type": "code",
   "execution_count": 93,
   "metadata": {},
   "outputs": [],
   "source": [
    "def conversion_rate(df):\n",
    "    \"\"\" function to calculate conversion rates for home, search and payment page\"\"\"\n",
    "    rates = []\n",
    "    tmp = df[~df['page_home'].isnull()]\n",
    "    rates.append(1 - tmp['page_search'].isnull().sum() / len(tmp))\n",
    "    \n",
    "    tmp = df[~df['page_search'].isnull()]\n",
    "    rates.append(1 - tmp['page_payment'].isnull().sum() / len(tmp))\n",
    "    \n",
    "    tmp = df[~df['page_payment'].isnull()]\n",
    "    rates.append(1 - tmp['page_confirmation'].isnull().sum() / len(tmp))\n",
    "    \n",
    "    return rates"
   ]
  },
  {
   "cell_type": "code",
   "execution_count": 142,
   "metadata": {},
   "outputs": [
    {
     "name": "stdout",
     "output_type": "stream",
     "text": [
      "['page_home', 'page_search', 'page_payment', 'page_confirmation']\n",
      "[90400.]\n",
      "[90400. 45200.]\n",
      "[90400. 45200.  6030.]\n",
      "[90400. 45200.  6030.   452.]\n",
      "                page    count\n",
      "0          page_home  90400.0\n",
      "1        page_search  45200.0\n",
      "2       page_payment   6030.0\n",
      "3  page_confirmation    452.0\n",
      "                page    count   count2  conversion\n",
      "0          page_home  90400.0      NaN         NaN\n",
      "1        page_search  45200.0  90400.0    0.500000\n",
      "2       page_payment   6030.0  45200.0    0.133407\n",
      "3  page_confirmation    452.0   6030.0    0.074959\n"
     ]
    }
   ],
   "source": [
    "#unique_page=list(data.columns[4:])\n",
    "#print(unique_page)\n",
    "page = []\n",
    "count = []\n",
    "unique_page=list(data.columns[4:])\n",
    "print(unique_page)\n",
    "for page in unique_page:\n",
    "    tmp=data[['user_id',page]].groupby(page).count().values\n",
    "    count=np.append(count,tmp)\n",
    "    print(count)\n",
    "        \n",
    "table=pd.DataFrame({'page':unique_page ,'count':count}, columns=['page','count'])  \n",
    "print(table)\n",
    "\n",
    "table['count2']=table[\"count\"].shift(1) \n",
    "table['conversion']=table[\"count\"]/table[\"count2\"]\n",
    "print(table)\n"
   ]
  },
  {
   "cell_type": "code",
   "execution_count": 131,
   "metadata": {},
   "outputs": [
    {
     "name": "stdout",
     "output_type": "stream",
     "text": [
      "[0.5, 0.13340707964601772, 0.07495854063018237]\n"
     ]
    },
    {
     "data": {
      "text/html": [
       "<div>\n",
       "<style scoped>\n",
       "    .dataframe tbody tr th:only-of-type {\n",
       "        vertical-align: middle;\n",
       "    }\n",
       "\n",
       "    .dataframe tbody tr th {\n",
       "        vertical-align: top;\n",
       "    }\n",
       "\n",
       "    .dataframe thead th {\n",
       "        text-align: right;\n",
       "    }\n",
       "</style>\n",
       "<table border=\"1\" class=\"dataframe\">\n",
       "  <thead>\n",
       "    <tr style=\"text-align: right;\">\n",
       "      <th></th>\n",
       "      <th>Page</th>\n",
       "      <th>Conversion Rate</th>\n",
       "    </tr>\n",
       "  </thead>\n",
       "  <tbody>\n",
       "    <tr>\n",
       "      <th>0</th>\n",
       "      <td>home</td>\n",
       "      <td>0.500000</td>\n",
       "    </tr>\n",
       "    <tr>\n",
       "      <th>1</th>\n",
       "      <td>search</td>\n",
       "      <td>0.133407</td>\n",
       "    </tr>\n",
       "    <tr>\n",
       "      <th>2</th>\n",
       "      <td>payment</td>\n",
       "      <td>0.074959</td>\n",
       "    </tr>\n",
       "  </tbody>\n",
       "</table>\n",
       "</div>"
      ],
      "text/plain": [
       "      Page  Conversion Rate\n",
       "0     home         0.500000\n",
       "1   search         0.133407\n",
       "2  payment         0.074959"
      ]
     },
     "execution_count": 131,
     "metadata": {},
     "output_type": "execute_result"
    }
   ],
   "source": [
    "rates = conversion_rate(data)\n",
    "print(rates)\n",
    "names = ['home', 'search', 'payment']\n",
    "maps = {'Page': ['home', 'search', 'payment'], 'Conversion Rate': rates}\n",
    "overall_conv = pd.DataFrame(maps, columns=['Page', 'Conversion Rate'])\n",
    "\n",
    "overall_conv"
   ]
  },
  {
   "cell_type": "code",
   "execution_count": 165,
   "metadata": {},
   "outputs": [
    {
     "data": {
      "image/png": "[encoded data removed]",
      "text/plain": [
       "<Figure size 576x360 with 1 Axes>"
      ]
     },
     "metadata": {
      "needs_background": "light"
     },
     "output_type": "display_data"
    }
   ],
   "source": [
    "fig, ax = plt.subplots(figsize=(8, 5))\n",
    "sns.barplot(x='Page', y='Conversion Rate', data=overall_conv, ax=ax)\n",
    "plt.show()"
   ]
  },
  {
   "cell_type": "markdown",
   "metadata": {},
   "source": [
    "## Page"
   ]
  },
  {
   "cell_type": "code",
   "execution_count": 144,
   "metadata": {},
   "outputs": [
    {
     "name": "stdout",
     "output_type": "stream",
     "text": [
      "['Desktop' 'Mobile']\n"
     ]
    }
   ],
   "source": [
    "print(data['device'].unique())"
   ]
  },
  {
   "cell_type": "code",
   "execution_count": 146,
   "metadata": {},
   "outputs": [
    {
     "name": "stdout",
     "output_type": "stream",
     "text": [
      "     Page      |Desktop   |Mobile    \n",
      "----------------------------------------\n",
      "home           |  0.500000|  0.500000\n",
      "search         |  0.100000|  0.200000\n",
      "payment        |  0.049834|  0.100000\n"
     ]
    }
   ],
   "source": [
    "# Method1\n",
    "desk_rates=conversion_rate(data[data['device']=='Desktop'])\n",
    "mobile_rates=conversion_rate(data[data['device']=='Mobile'])\n",
    "names = ['home', 'search', 'payment']\n",
    "print('{0:^15s}|{1:10s}|{2:10s}'.format('Page', 'Desktop', 'Mobile'))\n",
    "print('-'*40)\n",
    "\n",
    "for names ,desk_rates, mobile_rates in zip(names,desk_rates,mobile_rates):\n",
    "    print('{0:15s}|{1:10.6f}|{2:10.6f}'.format(names,desk_rates,mobile_rates))\n"
   ]
  },
  {
   "cell_type": "code",
   "execution_count": 167,
   "metadata": {},
   "outputs": [
    {
     "name": "stdout",
     "output_type": "stream",
     "text": [
      "      Page   Device  Conversion Rate\n",
      "0     home  Desktop         0.500000\n",
      "1   search  Desktop         0.100000\n",
      "2  payment  Desktop         0.049834\n",
      "3     home   Mobile         0.500000\n",
      "4   search   Mobile         0.200000\n",
      "5  payment   Mobile         0.100000\n"
     ]
    },
    {
     "data": {
      "image/png": "[encoded data removed]",
      "text/plain": [
       "<Figure size 576x360 with 1 Axes>"
      ]
     },
     "metadata": {
      "needs_background": "light"
     },
     "output_type": "display_data"
    }
   ],
   "source": [
    "maps = {'Page': ['home', 'search', 'payment', 'home', 'search', 'payment'], \n",
    "        'Device': ['Desktop', 'Desktop', 'Desktop', 'Mobile', 'Mobile', 'Mobile'], \n",
    "        'Conversion Rate': desk_rates + mobile_rates}\n",
    "device_conv = pd.DataFrame(maps, columns=['Page', 'Device', 'Conversion Rate'])\n",
    "print(device_conv)\n",
    "fig, ax = plt.subplots(figsize=(8, 5))\n",
    "sns.barplot(x='Page', y='Conversion Rate',hue='Device', data=device_conv, ax=ax)\n",
    "plt.show()"
   ]
  },
  {
   "cell_type": "code",
   "execution_count": 147,
   "metadata": {},
   "outputs": [
    {
     "data": {
      "text/html": [
       "<div>\n",
       "<style scoped>\n",
       "    .dataframe tbody tr th:only-of-type {\n",
       "        vertical-align: middle;\n",
       "    }\n",
       "\n",
       "    .dataframe tbody tr th {\n",
       "        vertical-align: top;\n",
       "    }\n",
       "\n",
       "    .dataframe thead th {\n",
       "        text-align: right;\n",
       "    }\n",
       "</style>\n",
       "<table border=\"1\" class=\"dataframe\">\n",
       "  <thead>\n",
       "    <tr style=\"text-align: right;\">\n",
       "      <th></th>\n",
       "      <th>Page</th>\n",
       "      <th>Desktop</th>\n",
       "      <th>Mobile</th>\n",
       "    </tr>\n",
       "  </thead>\n",
       "  <tbody>\n",
       "    <tr>\n",
       "      <th>0</th>\n",
       "      <td>home</td>\n",
       "      <td>0.500000</td>\n",
       "      <td>0.5</td>\n",
       "    </tr>\n",
       "    <tr>\n",
       "      <th>1</th>\n",
       "      <td>search</td>\n",
       "      <td>0.100000</td>\n",
       "      <td>0.2</td>\n",
       "    </tr>\n",
       "    <tr>\n",
       "      <th>2</th>\n",
       "      <td>payment</td>\n",
       "      <td>0.049834</td>\n",
       "      <td>0.1</td>\n",
       "    </tr>\n",
       "  </tbody>\n",
       "</table>\n",
       "</div>"
      ],
      "text/plain": [
       "      Page   Desktop  Mobile\n",
       "0     home  0.500000     0.5\n",
       "1   search  0.100000     0.2\n",
       "2  payment  0.049834     0.1"
      ]
     },
     "execution_count": 147,
     "metadata": {},
     "output_type": "execute_result"
    }
   ],
   "source": [
    "# Method2\n",
    "desk_rates=conversion_rate(data[data['device']=='Desktop'])\n",
    "mobile_rates=conversion_rate(data[data['device']=='Mobile'])\n",
    "names = ['home', 'search', 'payment']\n",
    "maps = {'Page': ['home', 'search', 'payment'], 'Desktop': desk_rates,'Mobile':mobile_rates}\n",
    "overall_conv2 = pd.DataFrame(maps, columns=['Page', 'Desktop','Mobile'])\n",
    "\n",
    "overall_conv2\n"
   ]
  },
  {
   "cell_type": "code",
   "execution_count": 164,
   "metadata": {},
   "outputs": [
    {
     "name": "stdout",
     "output_type": "stream",
     "text": [
      "['page_home', 'page_search', 'page_payment', 'page_confirmation']\n",
      "[60200.] [30200.]\n",
      "[60200. 30100.] [30200. 15100.]\n",
      "[60200. 30100.  3010.] [30200. 15100.  3020.]\n",
      "[60200. 30100.  3010.   150.] [30200. 15100.  3020.   302.]\n",
      "                page  Desktop   Mobile\n",
      "0          page_home  60200.0  30200.0\n",
      "1        page_search  30100.0  15100.0\n",
      "2       page_payment   3010.0   3020.0\n",
      "3  page_confirmation    150.0    302.0\n",
      "                page  Desktop   Mobile  conversion_desktop  conversion_mobile\n",
      "0          page_home  60200.0  30200.0                 NaN                NaN\n",
      "1        page_search  30100.0  15100.0            0.500000                0.5\n",
      "2       page_payment   3010.0   3020.0            0.100000                0.2\n",
      "3  page_confirmation    150.0    302.0            0.049834                0.1\n"
     ]
    }
   ],
   "source": [
    "#unique_page=list(data.columns[4:])\n",
    "#print(unique_page)\n",
    "page = []\n",
    "count1 = []\n",
    "count2 = []\n",
    "unique_page=list(data.columns[4:])\n",
    "print(unique_page)\n",
    "for page in unique_page:\n",
    "    tmp1=data[data['device']=='Desktop'][['user_id',page]].groupby(page).count().values\n",
    "    tmp2=data[data['device']=='Mobile'][['user_id',page]].groupby(page).count().values\n",
    "    count1=np.append(count1,tmp1)\n",
    "    count2=np.append(count2,tmp2)\n",
    "    print(count1,count2)\n",
    "        \n",
    "table=pd.DataFrame({'page':unique_page ,'Desktop':count1 ,'Mobile':count2}, columns=['page','Desktop','Mobile'])  \n",
    "print(table)\n",
    "\n",
    "table['count1_lag']=table[\"Desktop\"].shift(1) \n",
    "table['conversion_desktop']=table[\"Desktop\"]/table[\"count1_lag\"]\n",
    "table['count2_lag']=table[\"Mobile\"].shift(1) \n",
    "table['conversion_mobile']=table[\"Mobile\"]/table[\"count2_lag\"]\n",
    "table.drop(['count1_lag','count2_lag'],1,inplace=True)\n",
    "print(table)\n"
   ]
  },
  {
   "cell_type": "markdown",
   "metadata": {},
   "source": [
    "## Sex"
   ]
  },
  {
   "cell_type": "code",
   "execution_count": 168,
   "metadata": {},
   "outputs": [
    {
     "name": "stdout",
     "output_type": "stream",
     "text": [
      "['Female' 'Male']\n"
     ]
    }
   ],
   "source": [
    "print(data['sex'].unique())"
   ]
  },
  {
   "cell_type": "code",
   "execution_count": 175,
   "metadata": {},
   "outputs": [
    {
     "name": "stdout",
     "output_type": "stream",
     "text": [
      "['page_home', 'page_search', 'page_payment', 'page_confirmation']\n",
      "[45325.] [45075.]\n",
      "[45325. 22524.] [45075. 22676.]\n",
      "[45325. 22524.  2930.] [45075. 22676.  3100.]\n",
      "[45325. 22524.  2930.   211.] [45075. 22676.  3100.   241.]\n",
      "                page     Male   Female\n",
      "0          page_home  45325.0  45075.0\n",
      "1        page_search  22524.0  22676.0\n",
      "2       page_payment   2930.0   3100.0\n",
      "3  page_confirmation    211.0    241.0\n",
      "                page     Male   Female  conversion_male  conversion_female\n",
      "0          page_home  45325.0  45075.0              NaN                NaN\n",
      "1        page_search  22524.0  22676.0         0.496944           0.503073\n",
      "2       page_payment   2930.0   3100.0         0.130083           0.136708\n",
      "3  page_confirmation    211.0    241.0         0.072014           0.077742\n"
     ]
    }
   ],
   "source": [
    "#unique_page=list(data.columns[4:])\n",
    "#print(unique_page)\n",
    "page = []\n",
    "count1 = []\n",
    "count2 = []\n",
    "unique_page=list(data.columns[4:])\n",
    "print(unique_page)\n",
    "for page in unique_page:\n",
    "    tmp1=data[data['sex']=='Male'][['user_id',page]].groupby(page).count().values\n",
    "    tmp2=data[data['sex']=='Female'][['user_id',page]].groupby(page).count().values\n",
    "    count1=np.append(count1,tmp1)\n",
    "    count2=np.append(count2,tmp2)\n",
    "    print(count1,count2)\n",
    "        \n",
    "table=pd.DataFrame({'page':unique_page ,'Male':count1 ,'Female':count2}, columns=['page','Male','Female'])  \n",
    "print(table)\n",
    "\n",
    "table['count1_lag']=table[\"Male\"].shift(1) \n",
    "table['conversion_male']=table[\"Male\"]/table[\"count1_lag\"]\n",
    "table['count2_lag']=table[\"Female\"].shift(1) \n",
    "table['conversion_female']=table[\"Female\"]/table[\"count2_lag\"]\n",
    "table.drop(['count1_lag','count2_lag'],1,inplace=True)\n",
    "print(table)\n"
   ]
  },
  {
   "cell_type": "code",
   "execution_count": 179,
   "metadata": {},
   "outputs": [
    {
     "name": "stdout",
     "output_type": "stream",
     "text": [
      "<class 'pandas.core.frame.DataFrame'>\n"
     ]
    },
    {
     "data": {
      "text/html": [
       "<div>\n",
       "<style scoped>\n",
       "    .dataframe tbody tr th:only-of-type {\n",
       "        vertical-align: middle;\n",
       "    }\n",
       "\n",
       "    .dataframe tbody tr th {\n",
       "        vertical-align: top;\n",
       "    }\n",
       "\n",
       "    .dataframe thead th {\n",
       "        text-align: right;\n",
       "    }\n",
       "</style>\n",
       "<table border=\"1\" class=\"dataframe\">\n",
       "  <thead>\n",
       "    <tr style=\"text-align: right;\">\n",
       "      <th></th>\n",
       "      <th>page</th>\n",
       "      <th>conversion_male</th>\n",
       "      <th>conversion_female</th>\n",
       "    </tr>\n",
       "  </thead>\n",
       "  <tbody>\n",
       "    <tr>\n",
       "      <th>1</th>\n",
       "      <td>page_search</td>\n",
       "      <td>0.496944</td>\n",
       "      <td>0.503073</td>\n",
       "    </tr>\n",
       "    <tr>\n",
       "      <th>2</th>\n",
       "      <td>page_payment</td>\n",
       "      <td>0.130083</td>\n",
       "      <td>0.136708</td>\n",
       "    </tr>\n",
       "    <tr>\n",
       "      <th>3</th>\n",
       "      <td>page_confirmation</td>\n",
       "      <td>0.072014</td>\n",
       "      <td>0.077742</td>\n",
       "    </tr>\n",
       "  </tbody>\n",
       "</table>\n",
       "</div>"
      ],
      "text/plain": [
       "                page  conversion_male  conversion_female\n",
       "1        page_search         0.496944           0.503073\n",
       "2       page_payment         0.130083           0.136708\n",
       "3  page_confirmation         0.072014           0.077742"
      ]
     },
     "execution_count": 179,
     "metadata": {},
     "output_type": "execute_result"
    }
   ],
   "source": [
    "print(type(table))\n",
    "table.iloc[1:,[0,-2,-1]]"
   ]
  },
  {
   "cell_type": "code",
   "execution_count": 184,
   "metadata": {},
   "outputs": [
    {
     "name": "stdout",
     "output_type": "stream",
     "text": [
      "      Page     Sex  Conversion Rate\n",
      "0     home    Male         0.496944\n",
      "1   search    Male         0.130083\n",
      "2  payment    Male         0.072014\n",
      "3     home  Female         0.503073\n",
      "4   search  Female         0.136708\n",
      "5  payment  Female         0.077742\n"
     ]
    },
    {
     "data": {
      "image/png": "[encoded data removed]",
      "text/plain": [
       "<Figure size 576x360 with 1 Axes>"
      ]
     },
     "metadata": {
      "needs_background": "light"
     },
     "output_type": "display_data"
    }
   ],
   "source": [
    "\n",
    "maps = {'Page': ['home', 'search', 'payment', 'home', 'search', 'payment'], \n",
    "        'Sex': ['Male', 'Male', 'Male', 'Female', 'Female', 'Female'], \n",
    "        'Conversion Rate': np.append(table.iloc[1:,-2] , table.iloc[1:,-1])}\n",
    "sex_conv = pd.DataFrame(maps, columns=['Page', 'Sex', 'Conversion Rate'])\n",
    "print(sex_conv)\n",
    "fig, ax = plt.subplots(figsize=(8, 5))\n",
    "sns.barplot(x='Page', y='Conversion Rate',hue='Sex', data=sex_conv, ax=ax)\n",
    "plt.show()"
   ]
  },
  {
   "cell_type": "code",
   "execution_count": null,
   "metadata": {},
   "outputs": [],
   "source": []
  }
 ],
 "metadata": {
  "kernelspec": {
   "display_name": "Python 3",
   "language": "python",
   "name": "python3"
  },
  "language_info": {
   "codemirror_mode": {
    "name": "ipython",
    "version": 3
   },
   "file_extension": ".py",
   "mimetype": "text/x-python",
   "name": "python",
   "nbconvert_exporter": "python",
   "pygments_lexer": "ipython3",
   "version": "3.6.10"
  }
 },
 "nbformat": 4,
 "nbformat_minor": 4
}
