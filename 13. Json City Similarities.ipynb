{
 "cells": [
  {
   "cell_type": "markdown",
   "metadata": {},
   "source": [
    "# 13. Json City Similarities"
   ]
  },
  {
   "cell_type": "code",
   "execution_count": 1,
   "metadata": {},
   "outputs": [],
   "source": [
    "import warnings\n",
    "warnings.simplefilter('ignore')\n",
    "\n",
    "import json\n",
    "import numpy as np\n",
    "import pandas as pd\n",
    "import seaborn as sns\n",
    "import matplotlib.pyplot as plt\n",
    "\n",
    "%matplotlib inline"
   ]
  },
  {
   "cell_type": "code",
   "execution_count": 2,
   "metadata": {},
   "outputs": [
    {
     "name": "stdout",
     "output_type": "stream",
     "text": [
      "3.6.10\n"
     ]
    }
   ],
   "source": [
    "from platform import python_version\n",
    "print(python_version())"
   ]
  },
  {
   "cell_type": "code",
   "execution_count": 3,
   "metadata": {},
   "outputs": [
    {
     "data": {
      "text/html": [
       "<style type=\"text/css\">\n",
       "table.dataframe td, table.dataframe th {\n",
       "    border: 1px solid lightgray;\n",
       "}\n"
      ],
      "text/plain": [
       "<IPython.core.display.HTML object>"
      ]
     },
     "metadata": {},
     "output_type": "display_data"
    }
   ],
   "source": [
    "%%HTML\n",
    "<style type=\"text/css\">\n",
    "table.dataframe td, table.dataframe th {\n",
    "    border: 1px solid lightgray;\n",
    "}"
   ]
  },
  {
   "cell_type": "markdown",
   "metadata": {},
   "source": [
    "## Load Dataset\n"
   ]
  },
  {
   "cell_type": "code",
   "execution_count": 15,
   "metadata": {},
   "outputs": [],
   "source": [
    "def parse_json(data):\n",
    "    \"\"\" function to parse json data \"\"\"\n",
    "    session_id = []\n",
    "    timestamp = []\n",
    "    cities = []\n",
    "    user_id = []\n",
    "    joining_date = []\n",
    "    country = []\n",
    "    \n",
    "    # parse each item\n",
    "    for item in data:\n",
    "        session_id.append(item['session_id'][0])\n",
    "        timestamp.append(item['unix_timestamp'][0])\n",
    "        cities.append(item['cities'][0])\n",
    "        user_id.append(item['user'][0][0]['user_id'])\n",
    "        joining_date.append(item['user'][0][0]['joining_date'])\n",
    "        country.append(item['user'][0][0]['country'])\n",
    "    \n",
    "    # create DataFrame\n",
    "    maps = {'session_id': session_id, 'timestamp': timestamp, 'cities': cities, \n",
    "            'user_id': user_id, 'joining_date': joining_date, 'country': country}\n",
    "    columns=['session_id', 'timestamp', 'cities', 'user_id', 'joining_date', 'country']\n",
    "    \n",
    "    return pd.DataFrame(maps, columns=columns)"
   ]
  },
  {
   "cell_type": "code",
   "execution_count": 16,
   "metadata": {},
   "outputs": [
    {
     "data": {
      "text/html": [
       "<div>\n",
       "<style scoped>\n",
       "    .dataframe tbody tr th:only-of-type {\n",
       "        vertical-align: middle;\n",
       "    }\n",
       "\n",
       "    .dataframe tbody tr th {\n",
       "        vertical-align: top;\n",
       "    }\n",
       "\n",
       "    .dataframe thead th {\n",
       "        text-align: right;\n",
       "    }\n",
       "</style>\n",
       "<table border=\"1\" class=\"dataframe\">\n",
       "  <thead>\n",
       "    <tr style=\"text-align: right;\">\n",
       "      <th></th>\n",
       "      <th>session_id</th>\n",
       "      <th>timestamp</th>\n",
       "      <th>cities</th>\n",
       "      <th>user_id</th>\n",
       "      <th>joining_date</th>\n",
       "      <th>country</th>\n",
       "    </tr>\n",
       "  </thead>\n",
       "  <tbody>\n",
       "    <tr>\n",
       "      <th>0</th>\n",
       "      <td>D258NVMV202LS</td>\n",
       "      <td>1442640552</td>\n",
       "      <td>San Jose CA, Montreal QC</td>\n",
       "      <td>5749</td>\n",
       "      <td>2015-04-02</td>\n",
       "      <td>FR</td>\n",
       "    </tr>\n",
       "    <tr>\n",
       "      <th>1</th>\n",
       "      <td>TDG10UKG7I4LR</td>\n",
       "      <td>1432110137</td>\n",
       "      <td>New York NY</td>\n",
       "      <td>10716</td>\n",
       "      <td>2015-03-30</td>\n",
       "      <td>DE</td>\n",
       "    </tr>\n",
       "    <tr>\n",
       "      <th>2</th>\n",
       "      <td>OH4ZDIGN9BLQS</td>\n",
       "      <td>1437049311</td>\n",
       "      <td>Montreal QC, Quebec QC</td>\n",
       "      <td>2941</td>\n",
       "      <td>2015-03-16</td>\n",
       "      <td></td>\n",
       "    </tr>\n",
       "    <tr>\n",
       "      <th>3</th>\n",
       "      <td>CWHIAYKQ7RA28</td>\n",
       "      <td>1432215908</td>\n",
       "      <td>Chicago IL</td>\n",
       "      <td>2164</td>\n",
       "      <td>2015-03-27</td>\n",
       "      <td>FR</td>\n",
       "    </tr>\n",
       "    <tr>\n",
       "      <th>4</th>\n",
       "      <td>GI8GZJAWAC80P</td>\n",
       "      <td>1443556226</td>\n",
       "      <td>Toronto ON, Houston TX</td>\n",
       "      <td>10493</td>\n",
       "      <td>2015-03-31</td>\n",
       "      <td>US</td>\n",
       "    </tr>\n",
       "  </tbody>\n",
       "</table>\n",
       "</div>"
      ],
      "text/plain": [
       "      session_id   timestamp                    cities  user_id joining_date  \\\n",
       "0  D258NVMV202LS  1442640552  San Jose CA, Montreal QC     5749   2015-04-02   \n",
       "1  TDG10UKG7I4LR  1432110137               New York NY    10716   2015-03-30   \n",
       "2  OH4ZDIGN9BLQS  1437049311    Montreal QC, Quebec QC     2941   2015-03-16   \n",
       "3  CWHIAYKQ7RA28  1432215908                Chicago IL     2164   2015-03-27   \n",
       "4  GI8GZJAWAC80P  1443556226    Toronto ON, Houston TX    10493   2015-03-31   \n",
       "\n",
       "  country  \n",
       "0      FR  \n",
       "1      DE  \n",
       "2          \n",
       "3      FR  \n",
       "4      US  "
      ]
     },
     "execution_count": 16,
     "metadata": {},
     "output_type": "execute_result"
    }
   ],
   "source": [
    "with open('E:/Collection_DS_takehome_challenges/Data/city_searches.json', 'r') as f:\n",
    "    json_data = json.load(f)\n",
    "    \n",
    "data = parse_json(json_data)\n",
    "data['joining_date'] = pd.to_datetime(data['joining_date'])\n",
    "data.head()"
   ]
  },
  {
   "cell_type": "code",
   "execution_count": 17,
   "metadata": {},
   "outputs": [
    {
     "name": "stdout",
     "output_type": "stream",
     "text": [
      "<class 'pandas.core.frame.DataFrame'>\n",
      "RangeIndex: 20022 entries, 0 to 20021\n",
      "Data columns (total 6 columns):\n",
      " #   Column        Non-Null Count  Dtype         \n",
      "---  ------        --------------  -----         \n",
      " 0   session_id    20022 non-null  object        \n",
      " 1   timestamp     20022 non-null  int64         \n",
      " 2   cities        20022 non-null  object        \n",
      " 3   user_id       20022 non-null  int64         \n",
      " 4   joining_date  20022 non-null  datetime64[ns]\n",
      " 5   country       20022 non-null  object        \n",
      "dtypes: datetime64[ns](1), int64(2), object(3)\n",
      "memory usage: 938.7+ KB\n"
     ]
    }
   ],
   "source": [
    "data.info()"
   ]
  },
  {
   "cell_type": "code",
   "execution_count": 38,
   "metadata": {},
   "outputs": [
    {
     "name": "stdout",
     "output_type": "stream",
     "text": [
      "session_id blank : \t 0\n",
      "timestamp blank : \t 0\n",
      "cities blank : \t 0\n",
      "user_id blank : \t 0\n",
      "joining_date blank : \t 0\n",
      "country blank : \t 2769\n"
     ]
    }
   ],
   "source": [
    "for column in list(data.columns):\n",
    "    num=data[data[column] == ''][column].count()\n",
    "    print(column,'blank : \\t',num)"
   ]
  },
  {
   "cell_type": "code",
   "execution_count": 39,
   "metadata": {},
   "outputs": [
    {
     "name": "stdout",
     "output_type": "stream",
     "text": [
      "Unique session:\t 20022\n",
      "Unique users \t 9252\n"
     ]
    }
   ],
   "source": [
    "print('Unique session:\\t', len(data['session_id'].unique()))\n",
    "print('Unique users \\t', len(data['user_id'].unique()))"
   ]
  },
  {
   "cell_type": "markdown",
   "metadata": {},
   "source": [
    "## Questions1"
   ]
  },
  {
   "cell_type": "code",
   "execution_count": null,
   "metadata": {},
   "outputs": [],
   "source": [
    "# check the value country\n",
    "data['country'].value_counts().reset_index().rename(columns={'index': 'country', 'country': 'count'})"
   ]
  },
  {
   "cell_type": "code",
   "execution_count": 53,
   "metadata": {},
   "outputs": [
    {
     "data": {
      "text/html": [
       "<div>\n",
       "<style scoped>\n",
       "    .dataframe tbody tr th:only-of-type {\n",
       "        vertical-align: middle;\n",
       "    }\n",
       "\n",
       "    .dataframe tbody tr th {\n",
       "        vertical-align: top;\n",
       "    }\n",
       "\n",
       "    .dataframe thead th {\n",
       "        text-align: right;\n",
       "    }\n",
       "</style>\n",
       "<table border=\"1\" class=\"dataframe\">\n",
       "  <thead>\n",
       "    <tr style=\"text-align: right;\">\n",
       "      <th></th>\n",
       "      <th>country</th>\n",
       "      <th>count</th>\n",
       "    </tr>\n",
       "  </thead>\n",
       "  <tbody>\n",
       "    <tr>\n",
       "      <th>6</th>\n",
       "      <td>US</td>\n",
       "      <td>3772</td>\n",
       "    </tr>\n",
       "    <tr>\n",
       "      <th>5</th>\n",
       "      <td>UK</td>\n",
       "      <td>3754</td>\n",
       "    </tr>\n",
       "    <tr>\n",
       "      <th>1</th>\n",
       "      <td>DE</td>\n",
       "      <td>3741</td>\n",
       "    </tr>\n",
       "    <tr>\n",
       "      <th>0</th>\n",
       "      <td></td>\n",
       "      <td>2769</td>\n",
       "    </tr>\n",
       "    <tr>\n",
       "      <th>3</th>\n",
       "      <td>FR</td>\n",
       "      <td>2341</td>\n",
       "    </tr>\n",
       "    <tr>\n",
       "      <th>4</th>\n",
       "      <td>IT</td>\n",
       "      <td>1843</td>\n",
       "    </tr>\n",
       "    <tr>\n",
       "      <th>2</th>\n",
       "      <td>ES</td>\n",
       "      <td>1802</td>\n",
       "    </tr>\n",
       "  </tbody>\n",
       "</table>\n",
       "</div>"
      ],
      "text/plain": [
       "  country  count\n",
       "6      US   3772\n",
       "5      UK   3754\n",
       "1      DE   3741\n",
       "0           2769\n",
       "3      FR   2341\n",
       "4      IT   1843\n",
       "2      ES   1802"
      ]
     },
     "execution_count": 53,
     "metadata": {},
     "output_type": "execute_result"
    }
   ],
   "source": [
    "# check the value country\n",
    "data.groupby('country')['session_id'].count().reset_index().rename(columns={'country': 'country', 'session_id': 'count'}).sort_values('count',ascending=False)"
   ]
  },
  {
   "cell_type": "markdown",
   "metadata": {},
   "source": [
    "Given the current dataset, since there are little information about the dataset, one information that could be used to guess the country is the search time. Since people in different countries will search in similar local time, we can use this information to guess the country."
   ]
  },
  {
   "cell_type": "code",
   "execution_count": 57,
   "metadata": {},
   "outputs": [
    {
     "data": {
      "text/html": [
       "<div>\n",
       "<style scoped>\n",
       "    .dataframe tbody tr th:only-of-type {\n",
       "        vertical-align: middle;\n",
       "    }\n",
       "\n",
       "    .dataframe tbody tr th {\n",
       "        vertical-align: top;\n",
       "    }\n",
       "\n",
       "    .dataframe thead th {\n",
       "        text-align: right;\n",
       "    }\n",
       "</style>\n",
       "<table border=\"1\" class=\"dataframe\">\n",
       "  <thead>\n",
       "    <tr style=\"text-align: right;\">\n",
       "      <th></th>\n",
       "      <th>session_id</th>\n",
       "      <th>timestamp</th>\n",
       "      <th>cities</th>\n",
       "      <th>user_id</th>\n",
       "      <th>joining_date</th>\n",
       "      <th>country</th>\n",
       "    </tr>\n",
       "  </thead>\n",
       "  <tbody>\n",
       "    <tr>\n",
       "      <th>2</th>\n",
       "      <td>OH4ZDIGN9BLQS</td>\n",
       "      <td>1437049311</td>\n",
       "      <td>Montreal QC, Quebec QC</td>\n",
       "      <td>2941</td>\n",
       "      <td>2015-03-16</td>\n",
       "      <td></td>\n",
       "    </tr>\n",
       "    <tr>\n",
       "      <th>8</th>\n",
       "      <td>FHDJFT27R46XS</td>\n",
       "      <td>1431161158</td>\n",
       "      <td>New York NY</td>\n",
       "      <td>7146</td>\n",
       "      <td>2015-03-21</td>\n",
       "      <td></td>\n",
       "    </tr>\n",
       "    <tr>\n",
       "      <th>10</th>\n",
       "      <td>4Z4AWQGLY2D35</td>\n",
       "      <td>1432207705</td>\n",
       "      <td>Los Angeles CA</td>\n",
       "      <td>3845</td>\n",
       "      <td>2015-03-12</td>\n",
       "      <td></td>\n",
       "    </tr>\n",
       "    <tr>\n",
       "      <th>14</th>\n",
       "      <td>MPVIM7WTAHT91</td>\n",
       "      <td>1438144462</td>\n",
       "      <td>New York NY, Toronto ON</td>\n",
       "      <td>8469</td>\n",
       "      <td>2015-03-29</td>\n",
       "      <td></td>\n",
       "    </tr>\n",
       "    <tr>\n",
       "      <th>15</th>\n",
       "      <td>QIZD4OG4SFW70</td>\n",
       "      <td>1426410726</td>\n",
       "      <td>New York NY</td>\n",
       "      <td>9184</td>\n",
       "      <td>2015-03-08</td>\n",
       "      <td></td>\n",
       "    </tr>\n",
       "  </tbody>\n",
       "</table>\n",
       "</div>"
      ],
      "text/plain": [
       "       session_id   timestamp                   cities  user_id joining_date  \\\n",
       "2   OH4ZDIGN9BLQS  1437049311   Montreal QC, Quebec QC     2941   2015-03-16   \n",
       "8   FHDJFT27R46XS  1431161158              New York NY     7146   2015-03-21   \n",
       "10  4Z4AWQGLY2D35  1432207705           Los Angeles CA     3845   2015-03-12   \n",
       "14  MPVIM7WTAHT91  1438144462  New York NY, Toronto ON     8469   2015-03-29   \n",
       "15  QIZD4OG4SFW70  1426410726              New York NY     9184   2015-03-08   \n",
       "\n",
       "   country  \n",
       "2           \n",
       "8           \n",
       "10          \n",
       "14          \n",
       "15          "
      ]
     },
     "execution_count": 57,
     "metadata": {},
     "output_type": "execute_result"
    }
   ],
   "source": [
    "data[data['country']==''].head()"
   ]
  },
  {
   "cell_type": "code",
   "execution_count": 58,
   "metadata": {},
   "outputs": [],
   "source": [
    "# extract search time information\n",
    "data['time'] = pd.to_datetime(data['timestamp'], unit='s')\n",
    "data['hour'] = data['time'].apply(lambda x: x.hour)"
   ]
  },
  {
   "cell_type": "code",
   "execution_count": 61,
   "metadata": {},
   "outputs": [
    {
     "data": {
      "image/png": "[encoded data removed]",
      "text/plain": [
       "<Figure size 1296x864 with 7 Axes>"
      ]
     },
     "metadata": {
      "needs_background": "light"
     },
     "output_type": "display_data"
    }
   ],
   "source": [
    "# visualization\n",
    "country_list = ['','US', 'DE', 'UK', 'FR', 'ES', 'IT']\n",
    "order = list(range(0, 24))\n",
    "fig, ax = plt.subplots(nrows=7, ncols=1, figsize=(18, 12))\n",
    "for i in range(len(country_list)):\n",
    "    sns.countplot(x='hour', data=data[data['country'] == country_list[i]], ax=ax[i], order=order)\n",
    "    ax[i].set_ylabel(country_list[i], fontsize=12)\n",
    "plt.tight_layout()\n",
    "plt.show()"
   ]
  },
  {
   "cell_type": "markdown",
   "metadata": {},
   "source": [
    "Based on above figure, we can see that, for the unknown country, their peak search time has around 12 hours difference with United States, and around 5 hours difference with Europe. Based on the geographic locations of each country, it seems that this missing country is in Asia. Possible countries include China and Japan."
   ]
  },
  {
   "cell_type": "markdown",
   "metadata": {},
   "source": [
    "## Question 2"
   ]
  },
  {
   "cell_type": "markdown",
   "metadata": {},
   "source": [
    "For each city, find the most likely city to be also searched for within the same session."
   ]
  },
  {
   "cell_type": "code",
   "execution_count": 62,
   "metadata": {},
   "outputs": [
    {
     "data": {
      "text/html": [
       "<div>\n",
       "<style scoped>\n",
       "    .dataframe tbody tr th:only-of-type {\n",
       "        vertical-align: middle;\n",
       "    }\n",
       "\n",
       "    .dataframe tbody tr th {\n",
       "        vertical-align: top;\n",
       "    }\n",
       "\n",
       "    .dataframe thead th {\n",
       "        text-align: right;\n",
       "    }\n",
       "</style>\n",
       "<table border=\"1\" class=\"dataframe\">\n",
       "  <thead>\n",
       "    <tr style=\"text-align: right;\">\n",
       "      <th></th>\n",
       "      <th>session_id</th>\n",
       "      <th>timestamp</th>\n",
       "      <th>cities</th>\n",
       "      <th>user_id</th>\n",
       "      <th>joining_date</th>\n",
       "      <th>country</th>\n",
       "      <th>time</th>\n",
       "      <th>hour</th>\n",
       "    </tr>\n",
       "  </thead>\n",
       "  <tbody>\n",
       "    <tr>\n",
       "      <th>0</th>\n",
       "      <td>D258NVMV202LS</td>\n",
       "      <td>1442640552</td>\n",
       "      <td>San Jose CA, Montreal QC</td>\n",
       "      <td>5749</td>\n",
       "      <td>2015-04-02</td>\n",
       "      <td>FR</td>\n",
       "      <td>2015-09-19 05:29:12</td>\n",
       "      <td>5</td>\n",
       "    </tr>\n",
       "    <tr>\n",
       "      <th>1</th>\n",
       "      <td>TDG10UKG7I4LR</td>\n",
       "      <td>1432110137</td>\n",
       "      <td>New York NY</td>\n",
       "      <td>10716</td>\n",
       "      <td>2015-03-30</td>\n",
       "      <td>DE</td>\n",
       "      <td>2015-05-20 08:22:17</td>\n",
       "      <td>8</td>\n",
       "    </tr>\n",
       "    <tr>\n",
       "      <th>2</th>\n",
       "      <td>OH4ZDIGN9BLQS</td>\n",
       "      <td>1437049311</td>\n",
       "      <td>Montreal QC, Quebec QC</td>\n",
       "      <td>2941</td>\n",
       "      <td>2015-03-16</td>\n",
       "      <td></td>\n",
       "      <td>2015-07-16 12:21:51</td>\n",
       "      <td>12</td>\n",
       "    </tr>\n",
       "    <tr>\n",
       "      <th>3</th>\n",
       "      <td>CWHIAYKQ7RA28</td>\n",
       "      <td>1432215908</td>\n",
       "      <td>Chicago IL</td>\n",
       "      <td>2164</td>\n",
       "      <td>2015-03-27</td>\n",
       "      <td>FR</td>\n",
       "      <td>2015-05-21 13:45:08</td>\n",
       "      <td>13</td>\n",
       "    </tr>\n",
       "    <tr>\n",
       "      <th>4</th>\n",
       "      <td>GI8GZJAWAC80P</td>\n",
       "      <td>1443556226</td>\n",
       "      <td>Toronto ON, Houston TX</td>\n",
       "      <td>10493</td>\n",
       "      <td>2015-03-31</td>\n",
       "      <td>US</td>\n",
       "      <td>2015-09-29 19:50:26</td>\n",
       "      <td>19</td>\n",
       "    </tr>\n",
       "  </tbody>\n",
       "</table>\n",
       "</div>"
      ],
      "text/plain": [
       "      session_id   timestamp                    cities  user_id joining_date  \\\n",
       "0  D258NVMV202LS  1442640552  San Jose CA, Montreal QC     5749   2015-04-02   \n",
       "1  TDG10UKG7I4LR  1432110137               New York NY    10716   2015-03-30   \n",
       "2  OH4ZDIGN9BLQS  1437049311    Montreal QC, Quebec QC     2941   2015-03-16   \n",
       "3  CWHIAYKQ7RA28  1432215908                Chicago IL     2164   2015-03-27   \n",
       "4  GI8GZJAWAC80P  1443556226    Toronto ON, Houston TX    10493   2015-03-31   \n",
       "\n",
       "  country                time  hour  \n",
       "0      FR 2015-09-19 05:29:12     5  \n",
       "1      DE 2015-05-20 08:22:17     8  \n",
       "2         2015-07-16 12:21:51    12  \n",
       "3      FR 2015-05-21 13:45:08    13  \n",
       "4      US 2015-09-29 19:50:26    19  "
      ]
     },
     "execution_count": 62,
     "metadata": {},
     "output_type": "execute_result"
    }
   ],
   "source": [
    "data.head()"
   ]
  },
  {
   "cell_type": "code",
   "execution_count": 65,
   "metadata": {},
   "outputs": [
    {
     "name": "stdout",
     "output_type": "stream",
     "text": [
      "0             [San Jose CA, Montreal QC]\n",
      "1                          [New York NY]\n",
      "2               [Montreal QC, Quebec QC]\n",
      "3                           [Chicago IL]\n",
      "4               [Toronto ON, Houston TX]\n",
      "                      ...               \n",
      "20017                       [Phoenix AZ]\n",
      "20018                        [OTTAWA ON]\n",
      "20019                  [Indianapolis IN]\n",
      "20020                       [Chicago IL]\n",
      "20021    [Los Angeles CA, Long Beach CA]\n",
      "Name: cities, Length: 20022, dtype: object\n"
     ]
    }
   ],
   "source": [
    "city_pair = data['cities'].str.split(', ')\n",
    "print(city_pair)"
   ]
  },
  {
   "cell_type": "code",
   "execution_count": 67,
   "metadata": {},
   "outputs": [
    {
     "name": "stdout",
     "output_type": "stream",
     "text": [
      "0             [San Jose CA, Montreal QC]\n",
      "1                          [New York NY]\n",
      "2               [Montreal QC, Quebec QC]\n",
      "3                           [Chicago IL]\n",
      "4               [Toronto ON, Houston TX]\n",
      "                      ...               \n",
      "20017                       [Phoenix AZ]\n",
      "20018                        [OTTAWA ON]\n",
      "20019                  [Indianapolis IN]\n",
      "20020                       [Chicago IL]\n",
      "20021    [Los Angeles CA, Long Beach CA]\n",
      "Name: cities, Length: 20022, dtype: object\n"
     ]
    }
   ],
   "source": [
    "city_pair = data['cities'].apply(lambda x: x.split(', '))\n",
    "print(city_pair)"
   ]
  },
  {
   "cell_type": "code",
   "execution_count": 103,
   "metadata": {},
   "outputs": [
    {
     "name": "stdout",
     "output_type": "stream",
     "text": [
      "33071\n",
      "87\n"
     ]
    }
   ],
   "source": [
    "city_pair_list =[]\n",
    "for x in city_pair:\n",
    "    city_pair_list.extend(x)\n",
    "    \n",
    "\n",
    "print(len(city_pair_list))\n",
    "print(len(list(set(city_pair_list))))"
   ]
  },
  {
   "cell_type": "code",
   "execution_count": 118,
   "metadata": {},
   "outputs": [
    {
     "name": "stdout",
     "output_type": "stream",
     "text": [
      "Unique cities:\t 87\n",
      "['San Jose CA', 'Montreal QC', 'New York NY', 'Quebec QC', 'Chicago IL', 'Toronto ON', 'Houston TX', 'Los Angeles CA', 'San Diego CA', 'Santa Ana CA', 'Saint Catharines-Niagara ON', 'Edmonton AB', 'Philadelphia PA', 'Vancouver BC', 'Detroit MI', 'Phoenix AZ', 'Calgary AB', 'Jersey City NJ', 'Newark NJ', 'Columbus OH', 'Portland OR', 'Austin TX', 'Boston MA', 'Buffalo NY', 'Anaheim CA', 'Indianapolis IN', 'OTTAWA ON', 'Riverside CA', 'Long Beach CA', 'Toledo OH', 'San Antonio TX', 'Jacksonville FL', 'Baltimore MD', 'Hamilton ON', 'Seattle WA', 'Victoria BC', 'Corpus Christi TX', 'Miami FL', 'Hialeah FL', 'Saint Petersburg FL', 'Tampa FL', 'Glendale AZ', 'Milwaukee WI', 'Madison WI', 'Dallas TX', 'WASHINGTON DC', 'Stockton CA', 'San Francisco CA', 'Oshawa ON', 'Arlington TX', 'Chandler AZ', 'Louisville KY', 'Plano TX', 'Mesa AZ', 'Kitchener ON', 'Cincinnati OH', 'Chesapeake VA', 'Virginia Beach VA', 'Lexington KY', 'Fort Worth TX', 'Sacramento CA', 'Oakland CA', 'Fresno CA', 'Nashville TN', 'Windsor ON', 'Cleveland OH', 'Pittsburgh PA', 'Oklahoma City OK', 'Bakersfield CA', 'Fort Wayne IN', 'Scottsdale AZ', 'Saint Paul MN', 'Halifax NS', 'Wichita KS', 'Tulsa OK', 'London ON', 'Tucson AZ', 'Norfolk VA', 'Atlanta GA', 'Charlotte NC', 'Raleigh NC', 'Lincoln NE', 'Omaha NE', 'Kansas City MO', 'Birmingham AL', 'Minneapolis MN', 'Memphis TN']\n"
     ]
    }
   ],
   "source": [
    "index = 0\n",
    "maps = {}\n",
    "city_list = []\n",
    "for item in city_pair:\n",
    "    for city in item:\n",
    "        if city not in maps:\n",
    "            maps[city] = index\n",
    "            index += 1\n",
    "            city_list.append(city)\n",
    "            \n",
    "print('Unique cities:\\t', len(city_list))\n",
    "print(city_list)"
   ]
  },
  {
   "cell_type": "code",
   "execution_count": 110,
   "metadata": {},
   "outputs": [],
   "source": [
    "# calculate matrix similarity\n",
    "pair_matrix = np.zeros((87, 87))\n",
    "\n",
    "for item in city_pair:\n",
    "    if len(item) == 1:\n",
    "        continue\n",
    "    for i in range(len(item) - 1):\n",
    "        index1 = maps[item[i]]\n",
    "        for j in range(i + 1, len(item)):\n",
    "            index2 = maps[item[j]]\n",
    "            pair_matrix[index1, index2] += 1\n",
    "            pair_matrix[index2, index1] += 1"
   ]
  },
  {
   "cell_type": "code",
   "execution_count": 111,
   "metadata": {},
   "outputs": [
    {
     "data": {
      "text/html": [
       "<div>\n",
       "<style scoped>\n",
       "    .dataframe tbody tr th:only-of-type {\n",
       "        vertical-align: middle;\n",
       "    }\n",
       "\n",
       "    .dataframe tbody tr th {\n",
       "        vertical-align: top;\n",
       "    }\n",
       "\n",
       "    .dataframe thead th {\n",
       "        text-align: right;\n",
       "    }\n",
       "</style>\n",
       "<table border=\"1\" class=\"dataframe\">\n",
       "  <thead>\n",
       "    <tr style=\"text-align: right;\">\n",
       "      <th></th>\n",
       "      <th>San Jose CA</th>\n",
       "      <th>Montreal QC</th>\n",
       "      <th>New York NY</th>\n",
       "      <th>Quebec QC</th>\n",
       "      <th>Chicago IL</th>\n",
       "      <th>Toronto ON</th>\n",
       "      <th>Houston TX</th>\n",
       "      <th>Los Angeles CA</th>\n",
       "      <th>San Diego CA</th>\n",
       "      <th>Santa Ana CA</th>\n",
       "      <th>...</th>\n",
       "      <th>Norfolk VA</th>\n",
       "      <th>Atlanta GA</th>\n",
       "      <th>Charlotte NC</th>\n",
       "      <th>Raleigh NC</th>\n",
       "      <th>Lincoln NE</th>\n",
       "      <th>Omaha NE</th>\n",
       "      <th>Kansas City MO</th>\n",
       "      <th>Birmingham AL</th>\n",
       "      <th>Minneapolis MN</th>\n",
       "      <th>Memphis TN</th>\n",
       "    </tr>\n",
       "  </thead>\n",
       "  <tbody>\n",
       "    <tr>\n",
       "      <th>San Jose CA</th>\n",
       "      <td>0.0</td>\n",
       "      <td>17.0</td>\n",
       "      <td>40.0</td>\n",
       "      <td>0.0</td>\n",
       "      <td>12.0</td>\n",
       "      <td>25.0</td>\n",
       "      <td>7.0</td>\n",
       "      <td>20.0</td>\n",
       "      <td>0.0</td>\n",
       "      <td>0.0</td>\n",
       "      <td>...</td>\n",
       "      <td>0.0</td>\n",
       "      <td>0.0</td>\n",
       "      <td>0.0</td>\n",
       "      <td>0.0</td>\n",
       "      <td>0.0</td>\n",
       "      <td>0.0</td>\n",
       "      <td>0.0</td>\n",
       "      <td>0.0</td>\n",
       "      <td>0.0</td>\n",
       "      <td>0.0</td>\n",
       "    </tr>\n",
       "    <tr>\n",
       "      <th>Montreal QC</th>\n",
       "      <td>17.0</td>\n",
       "      <td>0.0</td>\n",
       "      <td>339.0</td>\n",
       "      <td>111.0</td>\n",
       "      <td>101.0</td>\n",
       "      <td>254.0</td>\n",
       "      <td>77.0</td>\n",
       "      <td>154.0</td>\n",
       "      <td>18.0</td>\n",
       "      <td>0.0</td>\n",
       "      <td>...</td>\n",
       "      <td>2.0</td>\n",
       "      <td>0.0</td>\n",
       "      <td>0.0</td>\n",
       "      <td>0.0</td>\n",
       "      <td>0.0</td>\n",
       "      <td>0.0</td>\n",
       "      <td>0.0</td>\n",
       "      <td>0.0</td>\n",
       "      <td>0.0</td>\n",
       "      <td>0.0</td>\n",
       "    </tr>\n",
       "    <tr>\n",
       "      <th>New York NY</th>\n",
       "      <td>40.0</td>\n",
       "      <td>339.0</td>\n",
       "      <td>0.0</td>\n",
       "      <td>7.0</td>\n",
       "      <td>260.0</td>\n",
       "      <td>427.0</td>\n",
       "      <td>172.0</td>\n",
       "      <td>318.0</td>\n",
       "      <td>62.0</td>\n",
       "      <td>0.0</td>\n",
       "      <td>...</td>\n",
       "      <td>14.0</td>\n",
       "      <td>0.0</td>\n",
       "      <td>0.0</td>\n",
       "      <td>0.0</td>\n",
       "      <td>0.0</td>\n",
       "      <td>0.0</td>\n",
       "      <td>0.0</td>\n",
       "      <td>0.0</td>\n",
       "      <td>0.0</td>\n",
       "      <td>0.0</td>\n",
       "    </tr>\n",
       "    <tr>\n",
       "      <th>Quebec QC</th>\n",
       "      <td>0.0</td>\n",
       "      <td>111.0</td>\n",
       "      <td>7.0</td>\n",
       "      <td>0.0</td>\n",
       "      <td>0.0</td>\n",
       "      <td>5.0</td>\n",
       "      <td>0.0</td>\n",
       "      <td>0.0</td>\n",
       "      <td>0.0</td>\n",
       "      <td>0.0</td>\n",
       "      <td>...</td>\n",
       "      <td>0.0</td>\n",
       "      <td>0.0</td>\n",
       "      <td>0.0</td>\n",
       "      <td>0.0</td>\n",
       "      <td>0.0</td>\n",
       "      <td>0.0</td>\n",
       "      <td>0.0</td>\n",
       "      <td>0.0</td>\n",
       "      <td>0.0</td>\n",
       "      <td>0.0</td>\n",
       "    </tr>\n",
       "    <tr>\n",
       "      <th>Chicago IL</th>\n",
       "      <td>12.0</td>\n",
       "      <td>101.0</td>\n",
       "      <td>260.0</td>\n",
       "      <td>0.0</td>\n",
       "      <td>0.0</td>\n",
       "      <td>145.0</td>\n",
       "      <td>74.0</td>\n",
       "      <td>116.0</td>\n",
       "      <td>20.0</td>\n",
       "      <td>0.0</td>\n",
       "      <td>...</td>\n",
       "      <td>0.0</td>\n",
       "      <td>0.0</td>\n",
       "      <td>0.0</td>\n",
       "      <td>0.0</td>\n",
       "      <td>3.0</td>\n",
       "      <td>2.0</td>\n",
       "      <td>1.0</td>\n",
       "      <td>0.0</td>\n",
       "      <td>12.0</td>\n",
       "      <td>0.0</td>\n",
       "    </tr>\n",
       "  </tbody>\n",
       "</table>\n",
       "<p>5 rows × 87 columns</p>\n",
       "</div>"
      ],
      "text/plain": [
       "             San Jose CA  Montreal QC  New York NY  Quebec QC  Chicago IL  \\\n",
       "San Jose CA          0.0         17.0         40.0        0.0        12.0   \n",
       "Montreal QC         17.0          0.0        339.0      111.0       101.0   \n",
       "New York NY         40.0        339.0          0.0        7.0       260.0   \n",
       "Quebec QC            0.0        111.0          7.0        0.0         0.0   \n",
       "Chicago IL          12.0        101.0        260.0        0.0         0.0   \n",
       "\n",
       "             Toronto ON  Houston TX  Los Angeles CA  San Diego CA  \\\n",
       "San Jose CA        25.0         7.0            20.0           0.0   \n",
       "Montreal QC       254.0        77.0           154.0          18.0   \n",
       "New York NY       427.0       172.0           318.0          62.0   \n",
       "Quebec QC           5.0         0.0             0.0           0.0   \n",
       "Chicago IL        145.0        74.0           116.0          20.0   \n",
       "\n",
       "             Santa Ana CA  ...  Norfolk VA  Atlanta GA  Charlotte NC  \\\n",
       "San Jose CA           0.0  ...         0.0         0.0           0.0   \n",
       "Montreal QC           0.0  ...         2.0         0.0           0.0   \n",
       "New York NY           0.0  ...        14.0         0.0           0.0   \n",
       "Quebec QC             0.0  ...         0.0         0.0           0.0   \n",
       "Chicago IL            0.0  ...         0.0         0.0           0.0   \n",
       "\n",
       "             Raleigh NC  Lincoln NE  Omaha NE  Kansas City MO  Birmingham AL  \\\n",
       "San Jose CA         0.0         0.0       0.0             0.0            0.0   \n",
       "Montreal QC         0.0         0.0       0.0             0.0            0.0   \n",
       "New York NY         0.0         0.0       0.0             0.0            0.0   \n",
       "Quebec QC           0.0         0.0       0.0             0.0            0.0   \n",
       "Chicago IL          0.0         3.0       2.0             1.0            0.0   \n",
       "\n",
       "             Minneapolis MN  Memphis TN  \n",
       "San Jose CA             0.0         0.0  \n",
       "Montreal QC             0.0         0.0  \n",
       "New York NY             0.0         0.0  \n",
       "Quebec QC               0.0         0.0  \n",
       "Chicago IL             12.0         0.0  \n",
       "\n",
       "[5 rows x 87 columns]"
      ]
     },
     "execution_count": 111,
     "metadata": {},
     "output_type": "execute_result"
    }
   ],
   "source": [
    "# create dataframe\n",
    "df_similarity = pd.DataFrame(pair_matrix, index=city_list, columns=city_list)\n",
    "df_similarity.head()"
   ]
  },
  {
   "cell_type": "code",
   "execution_count": 113,
   "metadata": {},
   "outputs": [
    {
     "data": {
      "image/png": "[encoded data removed]",
      "text/plain": [
       "<Figure size 720x576 with 2 Axes>"
      ]
     },
     "metadata": {
      "needs_background": "light"
     },
     "output_type": "display_data"
    }
   ],
   "source": [
    "# visualization\n",
    "fig, ax = plt.subplots(figsize=(10, 8))\n",
    "sns.heatmap(df_similarity, ax=ax)\n",
    "ax.axis('image')\n",
    "plt.tight_layout()\n",
    "plt.show()"
   ]
  },
  {
   "cell_type": "code",
   "execution_count": 133,
   "metadata": {},
   "outputs": [
    {
     "name": "stdout",
     "output_type": "stream",
     "text": [
      "              city  Index\n",
      "0      San Jose CA     61\n",
      "1      Montreal QC      2\n",
      "2      New York NY     17\n",
      "3        Quebec QC      1\n",
      "4       Chicago IL      2\n",
      "..             ...    ...\n",
      "82        Omaha NE      4\n",
      "83  Kansas City MO     44\n",
      "84   Birmingham AL     31\n",
      "85  Minneapolis MN      4\n",
      "86      Memphis TN     19\n",
      "\n",
      "[87 rows x 2 columns]\n",
      "      most similar\n",
      "0      San Jose CA\n",
      "1      Montreal QC\n",
      "2      New York NY\n",
      "3        Quebec QC\n",
      "4       Chicago IL\n",
      "..             ...\n",
      "82        Omaha NE\n",
      "83  Kansas City MO\n",
      "84   Birmingham AL\n",
      "85  Minneapolis MN\n",
      "86      Memphis TN\n",
      "\n",
      "[87 rows x 1 columns]\n"
     ]
    },
    {
     "data": {
      "text/html": [
       "<div>\n",
       "<style scoped>\n",
       "    .dataframe tbody tr th:only-of-type {\n",
       "        vertical-align: middle;\n",
       "    }\n",
       "\n",
       "    .dataframe tbody tr th {\n",
       "        vertical-align: top;\n",
       "    }\n",
       "\n",
       "    .dataframe thead th {\n",
       "        text-align: right;\n",
       "    }\n",
       "</style>\n",
       "<table border=\"1\" class=\"dataframe\">\n",
       "  <thead>\n",
       "    <tr style=\"text-align: right;\">\n",
       "      <th></th>\n",
       "      <th>city</th>\n",
       "      <th>most similar</th>\n",
       "    </tr>\n",
       "  </thead>\n",
       "  <tbody>\n",
       "    <tr>\n",
       "      <th>0</th>\n",
       "      <td>San Jose CA</td>\n",
       "      <td>Oakland CA</td>\n",
       "    </tr>\n",
       "    <tr>\n",
       "      <th>1</th>\n",
       "      <td>Montreal QC</td>\n",
       "      <td>New York NY</td>\n",
       "    </tr>\n",
       "    <tr>\n",
       "      <th>2</th>\n",
       "      <td>New York NY</td>\n",
       "      <td>Jersey City NJ</td>\n",
       "    </tr>\n",
       "    <tr>\n",
       "      <th>3</th>\n",
       "      <td>Quebec QC</td>\n",
       "      <td>Montreal QC</td>\n",
       "    </tr>\n",
       "    <tr>\n",
       "      <th>4</th>\n",
       "      <td>Chicago IL</td>\n",
       "      <td>New York NY</td>\n",
       "    </tr>\n",
       "    <tr>\n",
       "      <th>5</th>\n",
       "      <td>Toronto ON</td>\n",
       "      <td>New York NY</td>\n",
       "    </tr>\n",
       "    <tr>\n",
       "      <th>6</th>\n",
       "      <td>Houston TX</td>\n",
       "      <td>New York NY</td>\n",
       "    </tr>\n",
       "    <tr>\n",
       "      <th>7</th>\n",
       "      <td>Los Angeles CA</td>\n",
       "      <td>New York NY</td>\n",
       "    </tr>\n",
       "    <tr>\n",
       "      <th>8</th>\n",
       "      <td>San Diego CA</td>\n",
       "      <td>Santa Ana CA</td>\n",
       "    </tr>\n",
       "    <tr>\n",
       "      <th>9</th>\n",
       "      <td>Santa Ana CA</td>\n",
       "      <td>Los Angeles CA</td>\n",
       "    </tr>\n",
       "    <tr>\n",
       "      <th>10</th>\n",
       "      <td>Saint Catharines-Niagara ON</td>\n",
       "      <td>Toronto ON</td>\n",
       "    </tr>\n",
       "    <tr>\n",
       "      <th>11</th>\n",
       "      <td>Edmonton AB</td>\n",
       "      <td>Calgary AB</td>\n",
       "    </tr>\n",
       "    <tr>\n",
       "      <th>12</th>\n",
       "      <td>Philadelphia PA</td>\n",
       "      <td>New York NY</td>\n",
       "    </tr>\n",
       "    <tr>\n",
       "      <th>13</th>\n",
       "      <td>Vancouver BC</td>\n",
       "      <td>New York NY</td>\n",
       "    </tr>\n",
       "    <tr>\n",
       "      <th>14</th>\n",
       "      <td>Detroit MI</td>\n",
       "      <td>Windsor ON</td>\n",
       "    </tr>\n",
       "    <tr>\n",
       "      <th>15</th>\n",
       "      <td>Phoenix AZ</td>\n",
       "      <td>Glendale AZ</td>\n",
       "    </tr>\n",
       "    <tr>\n",
       "      <th>16</th>\n",
       "      <td>Calgary AB</td>\n",
       "      <td>Vancouver BC</td>\n",
       "    </tr>\n",
       "    <tr>\n",
       "      <th>17</th>\n",
       "      <td>Jersey City NJ</td>\n",
       "      <td>New York NY</td>\n",
       "    </tr>\n",
       "    <tr>\n",
       "      <th>18</th>\n",
       "      <td>Newark NJ</td>\n",
       "      <td>New York NY</td>\n",
       "    </tr>\n",
       "    <tr>\n",
       "      <th>19</th>\n",
       "      <td>Columbus OH</td>\n",
       "      <td>Cincinnati OH</td>\n",
       "    </tr>\n",
       "  </tbody>\n",
       "</table>\n",
       "</div>"
      ],
      "text/plain": [
       "                           city    most similar\n",
       "0                   San Jose CA      Oakland CA\n",
       "1                   Montreal QC     New York NY\n",
       "2                   New York NY  Jersey City NJ\n",
       "3                     Quebec QC     Montreal QC\n",
       "4                    Chicago IL     New York NY\n",
       "5                    Toronto ON     New York NY\n",
       "6                    Houston TX     New York NY\n",
       "7                Los Angeles CA     New York NY\n",
       "8                  San Diego CA    Santa Ana CA\n",
       "9                  Santa Ana CA  Los Angeles CA\n",
       "10  Saint Catharines-Niagara ON      Toronto ON\n",
       "11                  Edmonton AB      Calgary AB\n",
       "12              Philadelphia PA     New York NY\n",
       "13                 Vancouver BC     New York NY\n",
       "14                   Detroit MI      Windsor ON\n",
       "15                   Phoenix AZ     Glendale AZ\n",
       "16                   Calgary AB    Vancouver BC\n",
       "17               Jersey City NJ     New York NY\n",
       "18                    Newark NJ     New York NY\n",
       "19                  Columbus OH   Cincinnati OH"
      ]
     },
     "execution_count": 133,
     "metadata": {},
     "output_type": "execute_result"
    }
   ],
   "source": [
    "# get result\n",
    "result = df_similarity.apply(np.argmax, axis=0).reset_index()\n",
    "result = result.rename(columns={'index': 'city', 0: 'Index'})\n",
    "print(result)\n",
    "\n",
    "city_list2 = pd.DataFrame(city_list,columns=['most similar'])\n",
    "print(city_list2)\n",
    "\n",
    "city_list2 = city_list2.reset_index().rename(columns={'index': 'Index'})\n",
    "df = pd.merge(left=result, right=city_list2, on='Index', how='left')\n",
    "df.drop(columns=['Index'],inplace=True)\n",
    "\n",
    "df.head(20)"
   ]
  },
  {
   "cell_type": "markdown",
   "metadata": {},
   "source": [
    "## Question 3"
   ]
  },
  {
   "cell_type": "markdown",
   "metadata": {},
   "source": [
    "Travel sites are browsed by two kinds of users. Users who are actually planning a trip and users who just dream about a vacation. The first ones have obviously a much higher purchasing intent. Users planning a trip often search for cities close to each other, while users who search for cities far away from each other are often just dreaming about a vacation. That is, a user searching for LA, SF and Las Vegas in the same session is much more likely to book a hotel than a user searching for NY, Paris, Kuala Lumpur (makes sense, right?). Based on this idea, come up with an algorithm that clusters sessions into two groups: high intent and low intent. Explain all assumptions you make along the way.\n",
    "\n",
    "For this question, one way is to actually calculate the geographic distance for actual searched cities. However, this solution is not very practical for this small project. Another choice is to calculate the distance based on the city-city similarity in Question 2."
   ]
  },
  {
   "cell_type": "code",
   "execution_count": 142,
   "metadata": {},
   "outputs": [
    {
     "name": "stdout",
     "output_type": "stream",
     "text": [
      "0             [San Jose CA, Montreal QC]\n",
      "1                          [New York NY]\n",
      "2               [Montreal QC, Quebec QC]\n",
      "3                           [Chicago IL]\n",
      "4               [Toronto ON, Houston TX]\n",
      "                      ...               \n",
      "20017                       [Phoenix AZ]\n",
      "20018                        [OTTAWA ON]\n",
      "20019                  [Indianapolis IN]\n",
      "20020                       [Chicago IL]\n",
      "20021    [Los Angeles CA, Long Beach CA]\n",
      "Name: cities, Length: 20022, dtype: object\n",
      "range(0, 20021)\n"
     ]
    }
   ],
   "source": [
    "cities = data['cities'].str.split(', ')\n",
    "print(cities)\n",
    "\n",
    "print(range(len(cities)-1))\n",
    "    \n"
   ]
  },
  {
   "cell_type": "code",
   "execution_count": 147,
   "metadata": {},
   "outputs": [],
   "source": [
    "def search_distance(cities):\n",
    "    cities = cities.split(', ')\n",
    "    \n",
    "    if len(cities) == 1:\n",
    "        return 0  # user only search one city, distance 0\n",
    "    \n",
    "    distance = 0\n",
    "    for i in range(len(cities) - 1):\n",
    "        city1 = cities[i]\n",
    "        for j in range(i + 1, len(cities)):\n",
    "            city2 = cities[j]\n",
    "            distance += df_similarity.loc[city1, city2]    \n",
    "    return distance / len(cities)\n",
    "  \n",
    "# calculate distance\n",
    "data['distance'] = data['cities'].apply(search_distance)\n"
   ]
  },
  {
   "cell_type": "code",
   "execution_count": 149,
   "metadata": {},
   "outputs": [
    {
     "name": "stdout",
     "output_type": "stream",
     "text": [
      "                San Jose CA  Montreal QC  New York NY  Quebec QC  Chicago IL  \\\n",
      "San Jose CA             0.0         17.0         40.0        0.0        12.0   \n",
      "Montreal QC            17.0          0.0        339.0      111.0       101.0   \n",
      "New York NY            40.0        339.0          0.0        7.0       260.0   \n",
      "Quebec QC               0.0        111.0          7.0        0.0         0.0   \n",
      "Chicago IL             12.0        101.0        260.0        0.0         0.0   \n",
      "...                     ...          ...          ...        ...         ...   \n",
      "Omaha NE                0.0          0.0          0.0        0.0         2.0   \n",
      "Kansas City MO          0.0          0.0          0.0        0.0         1.0   \n",
      "Birmingham AL           0.0          0.0          0.0        0.0         0.0   \n",
      "Minneapolis MN          0.0          0.0          0.0        0.0        12.0   \n",
      "Memphis TN              0.0          0.0          0.0        0.0         0.0   \n",
      "\n",
      "                Toronto ON  Houston TX  Los Angeles CA  San Diego CA  \\\n",
      "San Jose CA           25.0         7.0            20.0           0.0   \n",
      "Montreal QC          254.0        77.0           154.0          18.0   \n",
      "New York NY          427.0       172.0           318.0          62.0   \n",
      "Quebec QC              5.0         0.0             0.0           0.0   \n",
      "Chicago IL           145.0        74.0           116.0          20.0   \n",
      "...                    ...         ...             ...           ...   \n",
      "Omaha NE               0.0         0.0             0.0           0.0   \n",
      "Kansas City MO         0.0         1.0             0.0           0.0   \n",
      "Birmingham AL          0.0         0.0             0.0           0.0   \n",
      "Minneapolis MN         0.0         0.0             0.0           0.0   \n",
      "Memphis TN             0.0         0.0             0.0           0.0   \n",
      "\n",
      "                Santa Ana CA  ...  Norfolk VA  Atlanta GA  Charlotte NC  \\\n",
      "San Jose CA              0.0  ...         0.0         0.0           0.0   \n",
      "Montreal QC              0.0  ...         2.0         0.0           0.0   \n",
      "New York NY              0.0  ...        14.0         0.0           0.0   \n",
      "Quebec QC                0.0  ...         0.0         0.0           0.0   \n",
      "Chicago IL               0.0  ...         0.0         0.0           0.0   \n",
      "...                      ...  ...         ...         ...           ...   \n",
      "Omaha NE                 0.0  ...         0.0         0.0           0.0   \n",
      "Kansas City MO           0.0  ...         0.0         0.0           0.0   \n",
      "Birmingham AL            0.0  ...         0.0         6.0           0.0   \n",
      "Minneapolis MN           0.0  ...         0.0         0.0           0.0   \n",
      "Memphis TN               0.0  ...         0.0         0.0           0.0   \n",
      "\n",
      "                Raleigh NC  Lincoln NE  Omaha NE  Kansas City MO  \\\n",
      "San Jose CA            0.0         0.0       0.0             0.0   \n",
      "Montreal QC            0.0         0.0       0.0             0.0   \n",
      "New York NY            0.0         0.0       0.0             0.0   \n",
      "Quebec QC              0.0         0.0       0.0             0.0   \n",
      "Chicago IL             0.0         3.0       2.0             1.0   \n",
      "...                    ...         ...       ...             ...   \n",
      "Omaha NE               0.0         1.0       0.0             1.0   \n",
      "Kansas City MO         0.0         2.0       1.0             0.0   \n",
      "Birmingham AL          0.0         0.0       0.0             0.0   \n",
      "Minneapolis MN         0.0         2.0       1.0             1.0   \n",
      "Memphis TN             0.0         0.0       0.0             0.0   \n",
      "\n",
      "                Birmingham AL  Minneapolis MN  Memphis TN  \n",
      "San Jose CA               0.0             0.0         0.0  \n",
      "Montreal QC               0.0             0.0         0.0  \n",
      "New York NY               0.0             0.0         0.0  \n",
      "Quebec QC                 0.0             0.0         0.0  \n",
      "Chicago IL                0.0            12.0         0.0  \n",
      "...                       ...             ...         ...  \n",
      "Omaha NE                  0.0             1.0         0.0  \n",
      "Kansas City MO            0.0             1.0         0.0  \n",
      "Birmingham AL             0.0             0.0         1.0  \n",
      "Minneapolis MN            0.0             0.0         0.0  \n",
      "Memphis TN                1.0             0.0         0.0  \n",
      "\n",
      "[87 rows x 87 columns]\n"
     ]
    }
   ],
   "source": [
    "print(df_similarity)"
   ]
  },
  {
   "cell_type": "code",
   "execution_count": 148,
   "metadata": {},
   "outputs": [
    {
     "data": {
      "image/png": "[encoded data removed]",
      "text/plain": [
       "<Figure size 576x360 with 1 Axes>"
      ]
     },
     "metadata": {
      "needs_background": "light"
     },
     "output_type": "display_data"
    }
   ],
   "source": [
    "# visualization\n",
    "warnings.filterwarnings('ignore')\n",
    "fig, ax = plt.subplots(figsize=(8, 5))\n",
    "sns.distplot(data['distance'], ax=ax, bins=50)\n",
    "plt.tight_layout()\n",
    "plt.show()"
   ]
  },
  {
   "cell_type": "markdown",
   "metadata": {},
   "source": [
    "It seems that we can set some threshold to cut the search distance such that any search that is above the threshold are assumed to be the search with low intent"
   ]
  }
 ],
 "metadata": {
  "kernelspec": {
   "display_name": "Python 3",
   "language": "python",
   "name": "python3"
  },
  "language_info": {
   "codemirror_mode": {
    "name": "ipython",
    "version": 3
   },
   "file_extension": ".py",
   "mimetype": "text/x-python",
   "name": "python",
   "nbconvert_exporter": "python",
   "pygments_lexer": "ipython3",
   "version": "3.6.10"
  }
 },
 "nbformat": 4,
 "nbformat_minor": 4
}
